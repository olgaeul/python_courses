{
  "nbformat": 4,
  "nbformat_minor": 0,
  "metadata": {
    "colab": {
      "provenance": []
    },
    "kernelspec": {
      "name": "python3",
      "display_name": "Python 3"
    },
    "language_info": {
      "name": "python"
    }
  },
  "cells": [
    {
      "cell_type": "markdown",
      "source": [
        "#Завдання на використання Pandas + SQL"
      ],
      "metadata": {
        "id": "ivUvJDdxKaHi"
      }
    },
    {
      "cell_type": "markdown",
      "source": [
        "В змінній `con` створіть підключення до бази даних employees за аналогією того, як це робили в попередній домашці:"
      ],
      "metadata": {
        "id": "BWdQdn3IKQ_M"
      }
    },
    {
      "cell_type": "code",
      "source": [],
      "metadata": {
        "id": "wj7hmp0-KZlV"
      },
      "execution_count": null,
      "outputs": []
    },
    {
      "cell_type": "markdown",
      "source": [
        "1. Виведіть кількість співробітників за роком, в який вони були найняті (hire_date) використовуючи pandas.read_sql. Запишіть результат в змінну df та виведіть значення змінної на екран."
      ],
      "metadata": {
        "id": "x09jzXh2MitM"
      }
    },
    {
      "cell_type": "code",
      "source": [],
      "metadata": {
        "id": "NFM8gv4aMiY1"
      },
      "execution_count": null,
      "outputs": []
    },
    {
      "cell_type": "markdown",
      "source": [
        "Очікуваний результат:\n",
        "\n",
        "![](https://drive.google.com/uc?export=view&id=1JmyPlxFwRRxuCJ33VN-AqMDPSdV_DPXI)"
      ],
      "metadata": {
        "id": "RNA4i6kCMnlY"
      }
    },
    {
      "cell_type": "markdown",
      "source": [
        "2. Виведіть лінійний графік залежності кількості найманих співробітників від року найму. Ми ж не просто так дані з бази дістали :)\n",
        "Перейменувати назви колонок датафрейму можна або методами pandas, або в sql запиті в попередньому завданні. Також, аби графік вийшов правильний, треба відсортувати роки за зростанням. І це також можна зробити аби в pandas, або в SQL."
      ],
      "metadata": {
        "id": "RKy022bqJqlu"
      }
    },
    {
      "cell_type": "code",
      "source": [],
      "metadata": {
        "id": "IKZLjCZcJr3x"
      },
      "execution_count": null,
      "outputs": []
    },
    {
      "cell_type": "markdown",
      "source": [
        "Очікуваний результат:\n",
        "\n",
        "![](https://drive.google.com/uc?export=view&id=1vXUpPNNvIL5dxsypr9sklvtq-H-NDwzU)"
      ],
      "metadata": {
        "id": "N0_8D0xLM2AW"
      }
    },
    {
      "cell_type": "markdown",
      "source": [
        "3. З допомогою SQL для робітників позиції `Engineer`, які вже не працюють в компанії (тобто у них є значення to_date, яке заповнено НЕ значенням за замовчанням) знайдіть кількість повних років перебування на позиції. Позиція зберігається в колонці `title` в таблиці `titles`. Кількість років перебування на позиції можна отримати наприклад з використанням функції `timestampdiff`. Ознайомтесь з її використанням в [документації](https://dev.mysql.com/doc/refman/8.0/en/date-and-time-functions.html#function_timestampdiff).\n",
        "\n",
        "Результат запишіть в змінну `df_years` та виведіть цю змінну на екран."
      ],
      "metadata": {
        "id": "8ert0tBvJsTZ"
      }
    },
    {
      "cell_type": "code",
      "source": [],
      "metadata": {
        "id": "bBhKfxlgJvi0"
      },
      "execution_count": null,
      "outputs": []
    },
    {
      "cell_type": "markdown",
      "source": [
        "Очікуваний результат:\n",
        "\n",
        "![](https://drive.google.com/uc?export=view&id=1nBqeBVYFuSQlMx9lNaDJJ_8hMx7yV9bX)"
      ],
      "metadata": {
        "id": "6v5ejqB_NBhY"
      }
    },
    {
      "cell_type": "markdown",
      "source": [
        "4. Використовуючи дані в  `df_years`, побудуйте гістограму кількості років, протягом яких люди з назвою позиції `Engineer` перебували на позиції. Не забудьте дати назву діаграмі, а також підписати вісі."
      ],
      "metadata": {
        "id": "n3p0vRyxJy6F"
      }
    },
    {
      "cell_type": "code",
      "source": [],
      "metadata": {
        "id": "i99i8zVHJwUc"
      },
      "execution_count": null,
      "outputs": []
    },
    {
      "cell_type": "markdown",
      "source": [
        "Очікуваний результат:\n",
        "\n",
        "![](https://drive.google.com/uc?export=view&id=1RKbfs5R9oniNs9XJcUpdlXFT-0BKXvPB)"
      ],
      "metadata": {
        "id": "g_8980MgNL8E"
      }
    },
    {
      "cell_type": "markdown",
      "source": [
        "НЕ ЗАБУВАЄМО ЗАКРИТИ ПІДКЛЮЧЕННЯ ДО БАЗИ :)"
      ],
      "metadata": {
        "id": "f-GGILeOJ2zz"
      }
    },
    {
      "cell_type": "code",
      "source": [
        "con.close()"
      ],
      "metadata": {
        "id": "ovabwjK_J5ac"
      },
      "execution_count": null,
      "outputs": []
    }
  ]
}