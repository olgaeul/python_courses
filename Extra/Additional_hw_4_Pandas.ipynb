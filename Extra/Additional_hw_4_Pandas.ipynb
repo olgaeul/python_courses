{
  "cells": [
    {
      "cell_type": "markdown",
      "id": "f27af02b",
      "metadata": {
        "id": "f27af02b"
      },
      "source": [
        "# Додаткове завдання з pandas\n",
        "Вітаю! В цьому завданні будемо працювати з даними з опитування щодо зарплат ІТ спеціалістів на рексурсі DOU від грудня 2022 року. Впевнена, це буде цікаве дослідження, а заразом і практика pandas :)\n",
        "Цей аналіз може бути корисним людині, яка обирає напрям роботи в ІТ і хоче зрозуміти тенденції. За якісного виконання цього аналізу, цей проєкт можна сміливо додавати у Ваше портфоліо!"
      ]
    },
    {
      "cell_type": "markdown",
      "id": "dce4f0a0",
      "metadata": {
        "id": "dce4f0a0"
      },
      "source": [
        "1. Зчитайте дані з файлу `2022_dec_raw.csv`. Увага! Тут необхідно використати аргумент `pd.read_csv` `sep=';'`, бо розділювач в даних - крапка з комою."
      ]
    },
    {
      "cell_type": "code",
      "execution_count": null,
      "id": "a238c418",
      "metadata": {
        "id": "a238c418"
      },
      "outputs": [],
      "source": []
    },
    {
      "cell_type": "markdown",
      "id": "7cf480dc",
      "metadata": {
        "id": "7cf480dc"
      },
      "source": [
        "2. Які колонки мають дані?"
      ]
    },
    {
      "cell_type": "code",
      "execution_count": null,
      "id": "3768c4d4",
      "metadata": {
        "id": "3768c4d4"
      },
      "outputs": [],
      "source": []
    },
    {
      "cell_type": "markdown",
      "id": "6d324476",
      "metadata": {
        "id": "6d324476"
      },
      "source": [
        "3. Скільки рядків та колонок мають дані? Скільки пропущених значень має кожна з колонок?"
      ]
    },
    {
      "cell_type": "code",
      "execution_count": null,
      "id": "4abb52fa",
      "metadata": {
        "id": "4abb52fa"
      },
      "outputs": [],
      "source": []
    },
    {
      "cell_type": "markdown",
      "id": "854846c5",
      "metadata": {
        "ExecuteTime": {
          "end_time": "2023-07-06T09:12:21.537631Z",
          "start_time": "2023-07-06T09:12:21.481059Z"
        },
        "id": "854846c5"
      },
      "source": [
        "4. Які колонки мають всі значення заповненими (не мають дожного None значення)? Виведіть програмно список цих колонок."
      ]
    },
    {
      "cell_type": "code",
      "execution_count": null,
      "id": "5de7ccb7",
      "metadata": {
        "id": "5de7ccb7"
      },
      "outputs": [],
      "source": []
    },
    {
      "cell_type": "markdown",
      "id": "2e6a2867",
      "metadata": {
        "ExecuteTime": {
          "end_time": "2023-07-06T10:56:38.046761Z",
          "start_time": "2023-07-06T10:56:38.038875Z"
        },
        "id": "2e6a2867"
      },
      "source": [
        "5. Який тип мають колонки в наборі даних? Які з колонок типу object логічно на ваш погляд перетворити на числові колонки?"
      ]
    },
    {
      "cell_type": "code",
      "execution_count": null,
      "id": "3915a5f8",
      "metadata": {
        "id": "3915a5f8"
      },
      "outputs": [],
      "source": []
    },
    {
      "cell_type": "markdown",
      "id": "3da64e75",
      "metadata": {
        "id": "3da64e75"
      },
      "source": [
        "6. Трансформуйте колонки 'Ваш вік', 'Зарплата у $$$ за місяць, лише ставка після сплати податків' у тип даних float. УВАГА! Перед трансформацією подивіться, які дані містять ці колонки. Аби успішно трансформувати тип даних, треба спочатку привести рядки до того виду, який буде підходити, аби потім рядок зробити типом float."
      ]
    },
    {
      "cell_type": "code",
      "execution_count": null,
      "id": "76173c1c",
      "metadata": {
        "id": "76173c1c"
      },
      "outputs": [],
      "source": []
    },
    {
      "cell_type": "markdown",
      "id": "9c4181cb",
      "metadata": {
        "ExecuteTime": {
          "end_time": "2023-07-06T11:36:23.006200Z",
          "start_time": "2023-07-06T11:36:22.975108Z"
        },
        "id": "9c4181cb"
      },
      "source": [
        "7. Це завдання з зірочкою! Нам треба транфсформувати колонку Timestamp у тип даних `datetime64[ns]`. Це не так просто як здається на першйий погляд :) Але це реальна ситуація, яка може трапитись при зборі даних в роботі аналітиком.\n",
        "Я запропоную один зі способів виконати завдання, але ви можете написати по-своєму. Головне - отримати колонку - потрібного типу.\n",
        "Пропоную наступний алгоритм дій:\n",
        "    1. Подивитись, які дані містяться в цій колонці. Виведіть перші і останні 5 записів. Чи однаковий формат цих даних? (спойлер: ні, бо інакше все було б просто :))\n",
        "    2. Нам треба враховуючи різний формат даних перетворити рядок у колонці `Timestamp` на тип `datetime64[ns]`. Як це зробити? Для перетворення рядка на `datetime64` пропоную скористатись `datetime.datetime.strptime`.\n",
        "    Для цього треба імпортувати бібліотеку `datetime`. Я пропоную написати функцію для обробки кожного окремого рядка, яка враховує довжину рядка і на основі цього застосовує різний формат даних дати.\n",
        "    Як прописувати формат даних можна переглянути [тут](https://www.w3schools.com/python/python_datetime.asp).\n",
        "    3. Коли функція для обробки кожного окремого рядка готова, застосуйте її для всіх даних з допомогою методу `apply`."
      ]
    },
    {
      "cell_type": "code",
      "execution_count": null,
      "id": "c3bcbd33",
      "metadata": {
        "id": "c3bcbd33"
      },
      "outputs": [],
      "source": []
    },
    {
      "cell_type": "markdown",
      "id": "e60cd492",
      "metadata": {
        "id": "e60cd492"
      },
      "source": [
        "8. Для колонок типу даних object (які такими лишились після всіх наших трансформацій) виведіть кількість унікальних значень."
      ]
    },
    {
      "cell_type": "code",
      "execution_count": null,
      "id": "c729c27d",
      "metadata": {
        "id": "c729c27d"
      },
      "outputs": [],
      "source": []
    },
    {
      "cell_type": "markdown",
      "id": "03500adf",
      "metadata": {
        "id": "03500adf"
      },
      "source": [
        "9. Для колонок типу даних object виведіть топ 10 найбільш частих значень з кількістю рядків, в яких це значення зустрічається. Зробіть це для кожної колонки окремо. Наприклад, в циклі.  \n",
        "Що цікавого бачите? Які висновки можна зробити? Що особисто Вас вразило?"
      ]
    },
    {
      "cell_type": "code",
      "execution_count": null,
      "id": "add43481",
      "metadata": {
        "id": "add43481"
      },
      "outputs": [],
      "source": []
    },
    {
      "cell_type": "markdown",
      "id": "35cf7d10",
      "metadata": {
        "id": "35cf7d10"
      },
      "source": [
        "10. Виведіть медіанну (медіана - це значення, менше якого є рівно 50% вибірки і більше якого є теж рівно 50% вибірки)\n",
        "ЗП (Зарплата у $$$) для кожного рівня знання англійської. Які висновки можна зробити?"
      ]
    },
    {
      "cell_type": "code",
      "execution_count": null,
      "id": "62e17c84",
      "metadata": {
        "id": "62e17c84"
      },
      "outputs": [],
      "source": []
    },
    {
      "cell_type": "markdown",
      "id": "0992c456",
      "metadata": {
        "ExecuteTime": {
          "end_time": "2023-07-06T11:56:25.250162Z",
          "start_time": "2023-07-06T11:56:25.244477Z"
        },
        "id": "0992c456"
      },
      "source": [
        "11. Є така штука як сортування значень категоріальної змінної. Нам це зараз стане в нагоді, адже рівні англійської можна посортувати.\n",
        "Давайте відсотруємо рівні англ. і тайтли. Просто запустіть код нижче і проаналізуйте, що він робить."
      ]
    },
    {
      "cell_type": "code",
      "execution_count": null,
      "id": "3af67c68",
      "metadata": {
        "id": "3af67c68"
      },
      "outputs": [],
      "source": [
        "df['Знання англійської мови'] = pd.Categorical(df['Знання англійської мови'],\n",
        "                      categories=['Elementary','Pre-Intermediate','Intermediate','Upper-Intermediate','Advanced'],\n",
        "                      ordered=True)\n",
        "\n",
        "df['Ваш тайтл'] = pd.Categorical(df['Ваш тайтл'],\n",
        "                      categories=['Intern/Trainee', 'Junior', 'Немає тайтлу', 'Middle', 'Senior', 'Tech Lead', 'Team Lead', 'Architect', 'Head', 'Manager'],\n",
        "                      ordered=True)"
      ]
    },
    {
      "cell_type": "markdown",
      "id": "d055e149",
      "metadata": {
        "ExecuteTime": {
          "end_time": "2023-07-06T11:52:57.539571Z",
          "start_time": "2023-07-06T11:52:57.535277Z"
        },
        "id": "d055e149"
      },
      "source": [
        "12. Зробіть зводну таблицю, де стовпці - це 'Ваш тайтл', рядки - 'Знання англійської мови', а значення - медіанна ЗП. Які висновки можна зробити?\n",
        "Тут ще для зручності можна зробити градієнтне забарвлення і відформатувати значення для легшого перегляду."
      ]
    },
    {
      "cell_type": "code",
      "execution_count": null,
      "id": "07f4702e",
      "metadata": {
        "id": "07f4702e"
      },
      "outputs": [],
      "source": []
    },
    {
      "cell_type": "markdown",
      "id": "edbb7046",
      "metadata": {
        "id": "edbb7046"
      },
      "source": [
        "13. Виведіть результат методу describe() по колонцы розміру ЗП для топ 5 за частотою зустрічання в даних областей (В якій області ви зараз живете?). Зробіть висновки, де вигідніше жити з точки зору ЗП і чи суттєва різниця на Ваш погляд для прийняття рішення про переїзд?"
      ]
    },
    {
      "cell_type": "code",
      "execution_count": null,
      "id": "96f7d7d9",
      "metadata": {
        "id": "96f7d7d9"
      },
      "outputs": [],
      "source": []
    },
    {
      "cell_type": "markdown",
      "id": "3bc4a018",
      "metadata": {
        "id": "3bc4a018"
      },
      "source": [
        "14. Як зростає зарплата з роками? Для цього нам треба відформатувати колонку \"Загальний стаж роботи за спеціальністю\" аналогічно до того, як ми це робили для колонки 'Знання англійської мови' і потім вивести медіанні значення для кількості років стажу."
      ]
    },
    {
      "cell_type": "code",
      "execution_count": null,
      "id": "20c1b2eb",
      "metadata": {
        "id": "20c1b2eb"
      },
      "outputs": [],
      "source": []
    },
    {
      "cell_type": "markdown",
      "id": "b14a10ee",
      "metadata": {
        "id": "b14a10ee"
      },
      "source": [
        "Далі тут можна зробити багато аналогічних агрегацій, проаналізувати, в який час люди заповнювали форму, хто більше отримує, Business Analyst, чи Data Analyst. Я вас заохочувати не стримувати свій інтерес і покапати ці дані далі :)"
      ]
    }
  ],
  "metadata": {
    "kernelspec": {
      "display_name": "Python 3 (ipykernel)",
      "language": "python",
      "name": "python3"
    },
    "language_info": {
      "codemirror_mode": {
        "name": "ipython",
        "version": 3
      },
      "file_extension": ".py",
      "mimetype": "text/x-python",
      "name": "python",
      "nbconvert_exporter": "python",
      "pygments_lexer": "ipython3",
      "version": "3.10.4"
    },
    "toc": {
      "base_numbering": 1,
      "nav_menu": {},
      "number_sections": true,
      "sideBar": true,
      "skip_h1_title": false,
      "title_cell": "Table of Contents",
      "title_sidebar": "Contents",
      "toc_cell": false,
      "toc_position": {},
      "toc_section_display": true,
      "toc_window_display": false
    },
    "colab": {
      "provenance": []
    }
  },
  "nbformat": 4,
  "nbformat_minor": 5
}