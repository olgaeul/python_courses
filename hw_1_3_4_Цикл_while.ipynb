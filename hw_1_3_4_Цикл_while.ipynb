{
  "cells": [
    {
      "cell_type": "markdown",
      "metadata": {
        "id": "15XCoYr0awZ6"
      },
      "source": [
        "#Домашнє завдання до теми \"Цикл while\""
      ]
    },
    {
      "cell_type": "markdown",
      "metadata": {
        "id": "xgCDxF5YhQSa"
      },
      "source": [
        "1. **Лічильник до заданого числа.**\n",
        "   Завдання:\n",
        "     - Створіть цикл `while`, щоб він лічив від 1 до заданого числа в змінній `limit`.\n",
        "     - Виведіть кожне число, яке проходить лічильник, на екран.\n",
        "     - В кінці виведіть повідомлення \"Кінець розрахунку!\".\n"
      ]
    },
    {
      "cell_type": "code",
      "execution_count": 1,
      "metadata": {
        "id": "wwSqYFCmiJTt"
      },
      "outputs": [],
      "source": [
        "limit = 9  # Задане число"
      ]
    },
    {
      "cell_type": "code",
      "execution_count": 3,
      "metadata": {
        "id": "4IcibOYqj3pn"
      },
      "outputs": [
        {
          "name": "stdout",
          "output_type": "stream",
          "text": [
            "1\n",
            "2\n",
            "3\n",
            "4\n",
            "5\n",
            "6\n",
            "7\n",
            "8\n",
            "9\n",
            "Кінець розрахунку!\n"
          ]
        }
      ],
      "source": [
        "i=1\n",
        "while i <= limit:\n",
        "    print (i)\n",
        "    i += 1\n",
        "print('Кінець розрахунку!')\n"
      ]
    },
    {
      "cell_type": "markdown",
      "metadata": {
        "id": "DlqunQnphZ9s"
      },
      "source": [
        "2. **Пошук першого парного числа.** Завдання:\n",
        "     - Створіть цикл `while`, щоб знайти перше парне число після заданого числа `start`.\n",
        "     - Знайдіть та виведіть перше парне число.\n"
      ]
    },
    {
      "cell_type": "code",
      "execution_count": 4,
      "metadata": {
        "id": "3CC3-gNJiW6X"
      },
      "outputs": [],
      "source": [
        "start = 7  # Задане число"
      ]
    },
    {
      "cell_type": "code",
      "execution_count": 5,
      "metadata": {
        "id": "5M8Ly9_Lj4-t"
      },
      "outputs": [
        {
          "data": {
            "text/plain": [
              "8"
            ]
          },
          "execution_count": 5,
          "metadata": {},
          "output_type": "execute_result"
        }
      ],
      "source": [
        "number = start + 1\n",
        "while number % 2 != 0:\n",
        "    number += 1\n",
        "number"
      ]
    },
    {
      "cell_type": "markdown",
      "metadata": {
        "id": "OlhKezZYiQJ2"
      },
      "source": [
        "\n",
        "3. **Обчислення факторіалу.**   \n",
        "  Факторіал числа - це добуток всіх натуральних чисел від 1 до цього числа включно. Наприклад, факторіал числа 5 (позначається як 5!) дорівнює `1 * 2 * 3 * 4 * 5 = 120`.\n",
        "\n",
        "  Завдання:  \n",
        "      - Обчисліть факторіал заданого числа, використовуючи цикл `while`.  \n",
        "      - Задайте деяке число для обчислення факторіалу у змінній `num`.  \n",
        "      - Виведіть обчислений факторіал на екран.  \n"
      ]
    },
    {
      "cell_type": "code",
      "execution_count": 11,
      "metadata": {
        "id": "s0JKm0Wtj5s9"
      },
      "outputs": [
        {
          "data": {
            "text/plain": [
              "5040"
            ]
          },
          "execution_count": 11,
          "metadata": {},
          "output_type": "execute_result"
        }
      ],
      "source": [
        "num = 7\n",
        "factorial = 1\n",
        "\n",
        "while num > 1:\n",
        "    factorial *= num\n",
        "    num -= 1\n",
        "\n",
        "factorial"
      ]
    }
  ],
  "metadata": {
    "colab": {
      "provenance": []
    },
    "kernelspec": {
      "display_name": "Python 3",
      "name": "python3"
    },
    "language_info": {
      "codemirror_mode": {
        "name": "ipython",
        "version": 3
      },
      "file_extension": ".py",
      "mimetype": "text/x-python",
      "name": "python",
      "nbconvert_exporter": "python",
      "pygments_lexer": "ipython3",
      "version": "3.9.13"
    }
  },
  "nbformat": 4,
  "nbformat_minor": 0
}
