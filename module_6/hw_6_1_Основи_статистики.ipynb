{
  "cells": [
    {
      "cell_type": "markdown",
      "metadata": {
        "id": "SDhaTqxcWhnP"
      },
      "source": [
        "В цьому домашньому завданні відпрацюємо з вами знання, отримані в модулі зі статистики.\n",
        "\n",
        "**Завдання 1.** Ми обговорили з Вами на лекції, що велика літера Сігма грецького алфавіту позначає в математиці суму. Знайдіть з використанням Python $\\Sigma x$, $\\Sigma x^2$, та $\\Sigma (x-1)^2$ для наступного набору даних:\n",
        "`1 3 4`\n",
        "Виведіть результат кожного обчислення на екран."
      ]
    },
    {
      "cell_type": "code",
      "execution_count": 1,
      "metadata": {
        "id": "B1mgx_IBT0e8"
      },
      "outputs": [
        {
          "data": {
            "text/plain": [
              "(8, 26, 13)"
            ]
          },
          "execution_count": 1,
          "metadata": {},
          "output_type": "execute_result"
        }
      ],
      "source": [
        "x = [1, 3, 4]\n",
        "\n",
        "sigma_x_1 = sum(x)\n",
        "sigma_x_2 = sum(i**2 for i in x)\n",
        "sigma_x_3 = sum((i - 1)**2 for i in x)\n",
        "\n",
        "sigma_x_1, sigma_x_2, sigma_x_3"
      ]
    },
    {
      "cell_type": "markdown",
      "metadata": {
        "id": "fa78aW5lhiia"
      },
      "source": [
        "**Завдання 2.** Ми зібрали дані про суму покупок в гривнях 20ма випадково обраними клієнтами в нашому магазині (всього клієнтів у нас більше) за минулий місяць. Вони представлені в змінній `sum_purchases`. Знайдіть **вибіркове середнє** для цих даних кожним з зазначених методів:   \n",
        "\n",
        "  2.1. без використання жодних бібліотек, користуючись тільки Python.  \n",
        "  2.2. використовуючи відповідний метод бібліотеки `numpy`.\n",
        "\n",
        "  Виведіть результат обчислень в кожному з випадків на екран та порівняйте результати. Вони співпадають?"
      ]
    },
    {
      "cell_type": "code",
      "execution_count": 2,
      "metadata": {},
      "outputs": [],
      "source": [
        "import numpy as np"
      ]
    },
    {
      "cell_type": "code",
      "execution_count": 3,
      "metadata": {
        "id": "_9kMt3rq6V5m"
      },
      "outputs": [],
      "source": [
        "sum_purchases = [ 316,  493,  367,  153,  224,  121,  322,  450,  196,  397,  281,\n",
        "  239,  484,  124,  223,  448,  432,  255, 4310, 3524]"
      ]
    },
    {
      "cell_type": "code",
      "execution_count": 4,
      "metadata": {
        "id": "wPmL919HT1c0"
      },
      "outputs": [
        {
          "name": "stdout",
          "output_type": "stream",
          "text": [
            "2.1 - 667.95\n",
            "2.2 - 667.95\n"
          ]
        }
      ],
      "source": [
        "n_purchases = len(sum_purchases)\n",
        "mean_purchases = sum(sum_purchases) / n_purchases\n",
        "\n",
        "print(f'2.1 - {mean_purchases}')\n",
        "print(f'2.2 - {np.mean(sum_purchases)}')"
      ]
    },
    {
      "cell_type": "markdown",
      "metadata": {
        "id": "FMdoxZd0kZdW"
      },
      "source": [
        "**Завдання 3.** Для того ж набору даних в змінній `sum_purchases` обчисліть **медіану** кожним з зазначених методів:  \n",
        "\n",
        "  3.1. без використання жодних бібліотек, користуючись тільки Python.  \n",
        "  3.2. використовуючи відповідний метод бібліотеки numpy.  \n",
        "\n",
        "Виведіть результат обчислень в кожному з випадків на екран. Порівняйте результати зі значенням вибіркового середнього. Напишіть коментар, для яких задач ви б використовували вибіркове середнє, а для яких - медіану?"
      ]
    },
    {
      "cell_type": "code",
      "execution_count": 5,
      "metadata": {
        "id": "x58BumvuT2nl"
      },
      "outputs": [
        {
          "name": "stdout",
          "output_type": "stream",
          "text": [
            "3.1 - 319.0\n",
            "3.2 - 319.0\n"
          ]
        }
      ],
      "source": [
        "median_purchases = (sorted(sum_purchases)[n_purchases//2-1] + sorted(sum_purchases)[n_purchases//2])/2\n",
        "\n",
        "print(f'3.1 - {median_purchases}')\n",
        "print(f'3.2 - {np.median(sum_purchases)}')"
      ]
    },
    {
      "cell_type": "markdown",
      "metadata": {
        "id": "o1Z7az2yNDQV"
      },
      "source": [
        "**Завдання 4**. Обчислість стандартне відхилення наведеної вибірки в змінній `sum_purchases` кожним з зазначених методів:  \n",
        "\n",
        "  4.1. без використання жодних бібліотек, користуючись тільки Python.  \n",
        "  4.2. використовуючи відповідний метод бібліотеки numpy.  \n",
        "\n",
        "Виведіть результат обчислень в кожному з випадків на екран."
      ]
    },
    {
      "cell_type": "code",
      "execution_count": 6,
      "metadata": {
        "id": "X4ixtmL2T642"
      },
      "outputs": [
        {
          "name": "stdout",
          "output_type": "stream",
          "text": [
            "4.1 - 1124.5433447451132\n",
            "4.2 - 1124.5433447451132\n"
          ]
        }
      ],
      "source": [
        "p_minus_mean = [(el - mean_purchases)**2 for el in sum_purchases]\n",
        "std_purchases = np.sqrt(sum(p_minus_mean)/(n_purchases - 1))\n",
        "\n",
        "print(f'4.1 - {std_purchases}')\n",
        "print(f'4.2 - {np.std(sum_purchases, ddof=1)}')"
      ]
    },
    {
      "cell_type": "markdown",
      "metadata": {
        "id": "M1ntKTjXLVlH"
      },
      "source": [
        "**Завдання 5**. Ми провели дослідження віку студентів-першокурсників. Виявилось, що\n",
        "- 10 студентів мають вік 16 років\n",
        "- 25 студентів - 17 років\n",
        "- 20 студентів - 18 років\n",
        "- 2 студенти - 20 років\n",
        "\n",
        "Обчислість середнє значення для цієї вибірки будь-яким способом - на чистому Python або з numpy - та виведіть результат на екран."
      ]
    },
    {
      "cell_type": "code",
      "execution_count": 7,
      "metadata": {
        "id": "RdIU4M-7T8R4"
      },
      "outputs": [
        {
          "data": {
            "text/plain": [
              "17.280701754385966"
            ]
          },
          "execution_count": 7,
          "metadata": {},
          "output_type": "execute_result"
        }
      ],
      "source": [
        "stundents = [10, 25, 20, 2]\n",
        "ages = [16, 17, 18, 20]\n",
        "\n",
        "count_s = sum(stundents)\n",
        "sum_a = sum( a * s for a ,s in zip(ages, stundents))\n",
        "average_a =  sum_a / count_s\n",
        "\n",
        "average_a"
      ]
    },
    {
      "cell_type": "markdown",
      "metadata": {
        "id": "Xx8MFkkVM53z"
      },
      "source": [
        "**Завдання 6**. Крім даних про суму покупок, ми зібрали ще дані про кількість відвідувань кожного з кожного покупця, які знаходяться в змінній `visits`. Обчисліть коефіцієнт кореляції Пірсона для суми покупок і кількості відвідувань кожним з зазначених методів:  \n",
        "\n",
        "  6.1. без використання жодних бібліотек, користуючись тільки Python.  \n",
        "  6.2. використовуючи відповідний метод бібліотеки numpy.  \n",
        "  \n",
        "Виведіть результат на екран. Проаналізуйте результат.\n",
        "\n",
        "Виведіть додатково графік розсіювання викликавши код нижче і зробіть заключення, чи варто щось змінити при підрахунку кореляції, аби коефіцієнт Пірсона показував коректну оцінку лінійної залежності?"
      ]
    },
    {
      "cell_type": "code",
      "execution_count": 8,
      "metadata": {
        "id": "4OIGBT7UOWhO"
      },
      "outputs": [],
      "source": [
        "visits = [ 6,  2, 10,  3,  9,  9,  2,  3,  6,  6, 10,  2,  5, 10,  3,  5,  4,\n",
        "        7,  4,  2]"
      ]
    },
    {
      "cell_type": "code",
      "execution_count": 9,
      "metadata": {},
      "outputs": [],
      "source": [
        "n_visits= len(visits)\n",
        "mean_visits = sum(visits) / n_visits\n",
        "\n",
        "v_minus_mean = [(el - mean_visits)**2 for el in visits]\n",
        "std_visits = np.sqrt(sum(v_minus_mean)/(n_visits - 1))"
      ]
    },
    {
      "cell_type": "code",
      "execution_count": 10,
      "metadata": {
        "id": "YLNF7VbeT97Q"
      },
      "outputs": [
        {
          "name": "stdout",
          "output_type": "stream",
          "text": [
            "6.1 - -0.30265844687666454\n",
            "6.2 - [[ 1.         -0.30265845]\n",
            " [-0.30265845  1.        ]]\n"
          ]
        }
      ],
      "source": [
        "pv = [ (sum_purchases[i] - mean_purchases)*(visits[i] - mean_visits) for i in range(n_purchases)]\n",
        "\n",
        "cov_py = sum(pv)/(n_purchases-1)\n",
        "\n",
        "r = cov_py / ( std_purchases * std_visits)\n",
        "\n",
        "print(f'6.1 - {r}')\n",
        "print(f'6.2 - {np.corrcoef(sum_purchases,visits)}')"
      ]
    },
    {
      "cell_type": "code",
      "execution_count": 11,
      "metadata": {
        "colab": {
          "base_uri": "https://localhost:8080/",
          "height": 472
        },
        "id": "gaeoGA-5Prr1",
        "outputId": "0c910a7f-0e96-449a-881d-1efa453b3c8d"
      },
      "outputs": [
        {
          "data": {
            "image/png": "[encoded data removed]",
            "text/plain": [
              "<Figure size 640x480 with 1 Axes>"
            ]
          },
          "metadata": {},
          "output_type": "display_data"
        }
      ],
      "source": [
        "import matplotlib.pyplot as plt\n",
        "\n",
        "plt.scatter(sum_purchases, visits)\n",
        "plt.title('Scatter Plot of Purchases vs. Visits')\n",
        "plt.xlabel('Sum of Purchases')\n",
        "plt.ylabel('Number of Visits');"
      ]
    },
    {
      "cell_type": "markdown",
      "metadata": {},
      "source": [
        "* The number of visits does not seem to strongly correlate with the sum of purchases, as there are cases with both low and high visit counts that result in either small or large sums of purchases.\n",
        "* There are visible outliers that may significantly affect the correlation calculation. Since most points are clustered near zero on the sum of purchases axis, these outliers could distort the results, reducing the accuracy of the Pearson coefficient.\n",
        "* Removing or separately accounting for outliers might prevent their influence on the correlation calculation."
      ]
    },
    {
      "cell_type": "markdown",
      "metadata": {
        "id": "4pEg0KzSQ6KA"
      },
      "source": [
        "**Завдання 7**. В попередньому завданні ми помітили, що викиди нам заважають отримати \"правдиве\" значення кореляції. Давайте вилучимо записи, які відповідають значенням з викидами в сумі покупок і обчисліть коеф. кореляції. Для цього поставте `threshold`, який дорінює середньому значенню + 2 стандартних вдіхилля суми покупок і всі значення, які більше за нього, будемо вважати викидами (є і інші правила для визначення викидів - з ним и познайомимось пізніше).\n",
        "\n",
        "Вилучіть значення з обох масивів і обчисліть коеф. кореляції Пірсона з допомогою `numpy` для кількості візитів і суми покупок без записів-викидів. Виведіть результат на екран, побудуйте діаграму розсіювання і проаналізуйте результат: що можемо сказати про залежність в даних?"
      ]
    },
    {
      "cell_type": "code",
      "execution_count": 12,
      "metadata": {
        "id": "Yj3Yfaf7UBbc"
      },
      "outputs": [
        {
          "data": {
            "image/png": "[encoded data removed]",
            "text/plain": [
              "<Figure size 640x480 with 1 Axes>"
            ]
          },
          "metadata": {},
          "output_type": "display_data"
        },
        {
          "data": {
            "text/plain": [
              "array([[ 1.        , -0.36852121],\n",
              "       [-0.36852121,  1.        ]])"
            ]
          },
          "execution_count": 12,
          "metadata": {},
          "output_type": "execute_result"
        }
      ],
      "source": [
        "threshold = mean_purchases + 2 * std_purchases\n",
        "\n",
        "filtered_purchases = [p for p in sum_purchases if p <= threshold]\n",
        "filtered_visits = [v for p, v in zip(sum_purchases,visits) if p <= threshold]\n",
        "\n",
        "p_cor = np.corrcoef(filtered_purchases, filtered_visits)\n",
        "\n",
        "# Plot the filtered scatter plot\n",
        "plt.scatter(filtered_purchases, filtered_visits)\n",
        "plt.title('Filtered Scatter Plot of Purchases vs. Visits')\n",
        "plt.xlabel('Sum of Purchases (Filtered)')\n",
        "plt.ylabel('Number of Visits')\n",
        "plt.show()\n",
        "\n",
        "p_cor"
      ]
    },
    {
      "cell_type": "markdown",
      "metadata": {},
      "source": [
        "* There is still a lot of spread in the data points, with no clear linear pattern.\n",
        "* The number of visits varies widely across different sums of purchases, indicating that the relationship between visits and purchases is not strongly linear."
      ]
    }
  ],
  "metadata": {
    "colab": {
      "provenance": []
    },
    "kernelspec": {
      "display_name": "Python 3",
      "name": "python3"
    },
    "language_info": {
      "codemirror_mode": {
        "name": "ipython",
        "version": 3
      },
      "file_extension": ".py",
      "mimetype": "text/x-python",
      "name": "python",
      "nbconvert_exporter": "python",
      "pygments_lexer": "ipython3",
      "version": "3.12.4"
    }
  },
  "nbformat": 4,
  "nbformat_minor": 0
}
