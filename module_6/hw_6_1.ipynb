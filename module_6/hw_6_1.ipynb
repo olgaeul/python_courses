{
 "cells": [
  {
   "cell_type": "markdown",
   "metadata": {},
   "source": [
    "1. Ви —  продакт менеджер в компанії, яка займається мобільними додатками. Ваша модель монетизації — підписка. У травні 2019 року до вас приєдналося 100 підписників, у червні — 150, у липні — 170. Скільки ці користувачі принесли вам до травня 2021 року включно, якщо щомісячний рівень відтоку становить 5%, а підписка коштує $10?"
   ]
  },
  {
   "cell_type": "markdown",
   "metadata": {},
   "source": [
    "* To calculate the total revenue from subscribers over a period, I accounted for each group of subscribers separately, based on their respective start months. \n",
    "* Using the sum of a geometric series formula, I calculated the revenue for each group by factoring in a 5% monthly churn rate. "
   ]
  },
  {
   "cell_type": "code",
   "execution_count": 1,
   "metadata": {},
   "outputs": [
    {
     "data": {
      "text/plain": [
       "57939.37"
      ]
     },
     "execution_count": 1,
     "metadata": {},
     "output_type": "execute_result"
    }
   ],
   "source": [
    "users_1 = 100 \n",
    "users_2 = 150 \n",
    "users_3 = 170\n",
    "\n",
    "price = 10\n",
    "churn_rate = 0.05\n",
    "\n",
    "months = 24\n",
    "\n",
    "def revenue(users, month):\n",
    "    return price * users * ((1 - (1 - churn_rate) ** month) / churn_rate)\n",
    "\n",
    "total_revenue = (\n",
    "    revenue(users_1, months) +\n",
    "    revenue(users_2, months - 1) +\n",
    "    revenue(users_3, months - 2)\n",
    ")\n",
    "\n",
    "round(total_revenue,2)"
   ]
  },
  {
   "cell_type": "markdown",
   "metadata": {},
   "source": [
    "2. Ви — менеджер по роботі з продуктом в компанії, яка розробляє мобільні ігри. Вашою метою є збільшення кількості активних користувачів. У січні 2020 року у вас було 2000 активних користувачів. З лютого кількість активних користувачів щомісяця зростає на 3%. У той же час, 2% користувачів щомісяця перестають користуватися додатком. Якою буде кількість активних користувачів у грудні 2021 року?"
   ]
  },
  {
   "cell_type": "markdown",
   "metadata": {},
   "source": [
    "* This calculation determines the number of active users in December 2021 by raising the initial user base to the power of both the growth rate and churn rate compounded monthly over 23 months."
   ]
  },
  {
   "cell_type": "code",
   "execution_count": 2,
   "metadata": {},
   "outputs": [
    {
     "data": {
      "text/plain": [
       "2480.0"
      ]
     },
     "execution_count": 2,
     "metadata": {},
     "output_type": "execute_result"
    }
   ],
   "source": [
    "initial_users = 2000\n",
    "churn_rate = 0.02\n",
    "growth_rate = 0.03\n",
    "months = 23\n",
    "\n",
    "active_users = initial_users * ((1 + growth_rate) ** months) * ((1 - churn_rate) ** months)\n",
    "\n",
    "round(active_users,0)"
   ]
  },
  {
   "cell_type": "markdown",
   "metadata": {},
   "source": [
    "3. Ви — менеджер з розвитку бізнесу в компанії, що займається створенням платформи для онлайн-курсів. У січні 2021 року ви залучили 500 нових користувачів. У лютому кількість нових користувачів зросла на 50%, у березні — ще на 20%. З квітня приріст нових користувачів стабілізувався на рівні 10% щомісяця. Скільки нових користувачів ви залучили загалом за перше півріччя 2021 року?"
   ]
  },
  {
   "cell_type": "markdown",
   "metadata": {},
   "source": [
    "* To calculate new users over six months, I used following calculations\n",
    "* For each month, I increase the number of users by set percentages 0% in January, 50% in February, 20% in March, and 10% from April to June."
   ]
  },
  {
   "cell_type": "code",
   "execution_count": 3,
   "metadata": {},
   "outputs": [
    {
     "data": {
      "text/plain": [
       "5427.0"
      ]
     },
     "execution_count": 3,
     "metadata": {},
     "output_type": "execute_result"
    }
   ],
   "source": [
    "initial_users = 500\n",
    "growth_rates = [0, 0.5, 0.2, 0.1, 0.1, 0.1]\n",
    "\n",
    "current_users = initial_users\n",
    "new_users = initial_users\n",
    "\n",
    "for i in range(1, 6):\n",
    "    current_users *= (1 + growth_rates[i])\n",
    "    new_users += current_users\n",
    "\n",
    "round(new_users,0)\n"
   ]
  }
 ],
 "metadata": {
  "kernelspec": {
   "display_name": "Python 3",
   "language": "python",
   "name": "python3"
  },
  "language_info": {
   "codemirror_mode": {
    "name": "ipython",
    "version": 3
   },
   "file_extension": ".py",
   "mimetype": "text/x-python",
   "name": "python",
   "nbconvert_exporter": "python",
   "pygments_lexer": "ipython3",
   "version": "3.12.4"
  }
 },
 "nbformat": 4,
 "nbformat_minor": 2
}
