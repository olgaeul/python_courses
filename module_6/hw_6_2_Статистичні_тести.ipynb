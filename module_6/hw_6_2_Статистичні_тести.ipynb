{
  "cells": [
    {
      "cell_type": "markdown",
      "id": "e152f6d6",
      "metadata": {
        "ExecuteTime": {
          "end_time": "2022-12-10T14:29:24.703416Z",
          "start_time": "2022-12-10T14:29:24.688485Z"
        },
        "id": "e152f6d6"
      },
      "source": [
        "## Домашнє завдання 6: Статистичні тести"
      ]
    },
    {
      "cell_type": "markdown",
      "id": "cd404683",
      "metadata": {
        "id": "cd404683"
      },
      "source": [
        "0. Зчитайте дані з `data.csv` та запишіть значення колонки data у форматі np.ndarray в змінну data. Ми будемо далі працювати з цією змінною."
      ]
    },
    {
      "cell_type": "code",
      "execution_count": 1,
      "id": "a8M1Xqa3hInl",
      "metadata": {
        "id": "a8M1Xqa3hInl"
      },
      "outputs": [],
      "source": [
        "import pandas as pd\n",
        "\n",
        "data = pd.read_csv('../../module_6/data/data.csv')"
      ]
    },
    {
      "cell_type": "markdown",
      "id": "3d06cbbf",
      "metadata": {
        "id": "3d06cbbf"
      },
      "source": [
        "Запустіть код нижче. Для коректної робити всіх подальших методів дані мають бути у вигляді одновимірного вектора, тобто мати розмір (100,)."
      ]
    },
    {
      "cell_type": "code",
      "execution_count": 2,
      "id": "Rc_cM9TfhJYI",
      "metadata": {
        "id": "Rc_cM9TfhJYI"
      },
      "outputs": [
        {
          "data": {
            "text/plain": [
              "(100, 2)"
            ]
          },
          "execution_count": 2,
          "metadata": {},
          "output_type": "execute_result"
        }
      ],
      "source": [
        "data.shape"
      ]
    },
    {
      "cell_type": "code",
      "execution_count": 3,
      "id": "3ff1113d",
      "metadata": {},
      "outputs": [
        {
          "data": {
            "text/plain": [
              "(100,)"
            ]
          },
          "execution_count": 3,
          "metadata": {},
          "output_type": "execute_result"
        }
      ],
      "source": [
        "v_data = data.iloc[:, 1]\n",
        "v_data.shape"
      ]
    },
    {
      "cell_type": "markdown",
      "id": "abdcef5d",
      "metadata": {
        "id": "abdcef5d"
      },
      "source": [
        "1. Зчитані дані - це сума покупок в доларах наших покупців на сайті протягом липня 2022 року.\n",
        "\n",
        "До цього місяця, ми мали продажі в середньому на чек $20. Чи вийшло у нас статистично значущо **підвищити** середній чек за останній місяць?\n",
        "\n",
        "Оберіть статистичний тест (z-test чи t-test). Виведіть p-значення статистичного тесту та зробіть висновок, чи ми маємо зараз статистично значущу різницю у розмірі середнього чеку.\n",
        "\n",
        "**Підказка**: тут тест буде одновибірковий."
      ]
    },
    {
      "cell_type": "code",
      "execution_count": 4,
      "id": "259ed323",
      "metadata": {},
      "outputs": [],
      "source": [
        "from statsmodels.stats.weightstats import ztest"
      ]
    },
    {
      "cell_type": "code",
      "execution_count": 5,
      "id": "XhxcSbYqhLz9",
      "metadata": {
        "id": "XhxcSbYqhLz9"
      },
      "outputs": [
        {
          "name": "stdout",
          "output_type": "stream",
          "text": [
            "-0.9953477389335053 0.8402164165464012\n",
            "Немає статистично значущої різниці: середній чек не збільшився.\n"
          ]
        }
      ],
      "source": [
        "z_stat, p_value = ztest(v_data, value=20, alternative='larger')\n",
        "\n",
        "print( z_stat, p_value)\n",
        "\n",
        "alpha = 0.05  \n",
        "if p_value < alpha:\n",
        "    print(\"Є статистично значуща різниця: середній чек збільшився.\")\n",
        "else:\n",
        "    print(\"Немає статистично значущої різниці: середній чек не збільшився.\")\n"
      ]
    },
    {
      "cell_type": "markdown",
      "id": "05219e41",
      "metadata": {
        "ExecuteTime": {
          "end_time": "2022-12-10T14:52:46.140204Z",
          "start_time": "2022-12-10T14:52:46.112068Z"
        },
        "id": "05219e41"
      },
      "source": [
        "2. Пройшов час, і ми зібрали дані про продажі за серпень 2022 року, які зберігли у файл `data_2.csv`. Продажів було дещо більше, але чи змінився стат. значущо середній чек порівняно з липнем 2022? Перевірте це використовуючи ztest.\n",
        "\n",
        "  Виведіть p-значення статистичного тесту та зробіть висновок, чи ми маємо зараз статистично значущу різницю у розмірі середнього чека між двома місяцями.\n",
        "\n",
        "  **Підказка**: треба провести двовибірковий ztest з Н0 - що середні значення в липні та серпні 2022 року - однакові. Для кращого розуміння ситуації, можливо вам буде цікаво переглянути, які середні показники чеку були в кожен з місяців. Порівняйте свій висновок з простого спостереження середніх значень і висновок статистичного тесту. Чи вони збігаються?"
      ]
    },
    {
      "cell_type": "code",
      "execution_count": 6,
      "id": "hbs7LPI4hP-6",
      "metadata": {
        "id": "hbs7LPI4hP-6"
      },
      "outputs": [],
      "source": [
        "data_2 = pd.read_csv('../../module_6/data/data_2.csv')"
      ]
    },
    {
      "cell_type": "code",
      "execution_count": 7,
      "id": "ce8745ce",
      "metadata": {},
      "outputs": [
        {
          "data": {
            "text/plain": [
              "(120, 1)"
            ]
          },
          "execution_count": 7,
          "metadata": {},
          "output_type": "execute_result"
        }
      ],
      "source": [
        "data_2.shape"
      ]
    },
    {
      "cell_type": "code",
      "execution_count": 8,
      "id": "563e35de",
      "metadata": {},
      "outputs": [
        {
          "data": {
            "text/plain": [
              "(120,)"
            ]
          },
          "execution_count": 8,
          "metadata": {},
          "output_type": "execute_result"
        }
      ],
      "source": [
        "v_data_2 = data_2.iloc[:, 0]\n",
        "v_data_2.shape"
      ]
    },
    {
      "cell_type": "code",
      "execution_count": 9,
      "id": "dce321dc",
      "metadata": {},
      "outputs": [],
      "source": [
        "import numpy as np"
      ]
    },
    {
      "cell_type": "code",
      "execution_count": 10,
      "id": "ee40c677",
      "metadata": {},
      "outputs": [
        {
          "name": "stdout",
          "output_type": "stream",
          "text": [
            "Mean July 2022 - 19.37755319670441\n",
            "Mean August 2022 - 19.37322276512519\n"
          ]
        }
      ],
      "source": [
        "print(f'Mean July 2022 - {np.mean(v_data)}')\n",
        "print(f'Mean August 2022 - {np.mean(v_data_2)}')"
      ]
    },
    {
      "cell_type": "markdown",
      "id": "07b43438",
      "metadata": {},
      "source": [
        "There is no significant difference in mean values"
      ]
    },
    {
      "cell_type": "code",
      "execution_count": 11,
      "id": "a40e04be",
      "metadata": {},
      "outputs": [
        {
          "name": "stdout",
          "output_type": "stream",
          "text": [
            "0.005246673456808504 0.9958137794593356\n",
            "Немає статистично значущої різниці: середній чек не збільшився.\n"
          ]
        }
      ],
      "source": [
        "z_stat, p_value = ztest(v_data, v_data_2, value =0)\n",
        "\n",
        "print( z_stat, p_value)\n",
        "\n",
        "alpha = 0.05  \n",
        "if p_value < alpha:\n",
        "    print(\"Є статистично значуща різниця: середній чек збільшився.\")\n",
        "else:\n",
        "    print(\"Немає статистично значущої різниці: середній чек не збільшився.\")\n"
      ]
    }
  ],
  "metadata": {
    "colab": {
      "provenance": []
    },
    "hide_input": false,
    "kernelspec": {
      "display_name": "Python 3 (ipykernel)",
      "language": "python",
      "name": "python3"
    },
    "language_info": {
      "codemirror_mode": {
        "name": "ipython",
        "version": 3
      },
      "file_extension": ".py",
      "mimetype": "text/x-python",
      "name": "python",
      "nbconvert_exporter": "python",
      "pygments_lexer": "ipython3",
      "version": "3.12.4"
    },
    "toc": {
      "base_numbering": 1,
      "nav_menu": {},
      "number_sections": true,
      "sideBar": true,
      "skip_h1_title": false,
      "title_cell": "Table of Contents",
      "title_sidebar": "Contents",
      "toc_cell": false,
      "toc_position": {},
      "toc_section_display": true,
      "toc_window_display": false
    },
    "varInspector": {
      "cols": {
        "lenName": 16,
        "lenType": 16,
        "lenVar": 40
      },
      "kernels_config": {
        "python": {
          "delete_cmd_postfix": "",
          "delete_cmd_prefix": "del ",
          "library": "var_list.py",
          "varRefreshCmd": "print(var_dic_list())"
        },
        "r": {
          "delete_cmd_postfix": ") ",
          "delete_cmd_prefix": "rm(",
          "library": "var_list.r",
          "varRefreshCmd": "cat(var_dic_list()) "
        }
      },
      "types_to_exclude": [
        "module",
        "function",
        "builtin_function_or_method",
        "instance",
        "_Feature"
      ],
      "window_display": false
    }
  },
  "nbformat": 4,
  "nbformat_minor": 5
}
