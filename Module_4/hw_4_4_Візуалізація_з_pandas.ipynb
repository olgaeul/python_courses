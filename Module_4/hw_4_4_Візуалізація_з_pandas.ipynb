{
  "nbformat": 4,
  "nbformat_minor": 0,
  "metadata": {
    "colab": {
      "provenance": []
    },
    "kernelspec": {
      "name": "python3",
      "display_name": "Python 3"
    },
    "language_info": {
      "name": "python"
    }
  },
  "cells": [
    {
      "cell_type": "markdown",
      "source": [
        "У цьому домашньому завданні ми продовжуємо працювати з набором даних `Yulu`, з яким почали працювати в \"hw 4.3. Робота з DataFrame. Діаграма розсіювання.\". Фокус цього ДЗ в тому, аби будувати візуалізації використовуючи методи pandas.DataFrame. Це дозволяє будувати візуалізації ще швидше.\n",
        "\n",
        "Документація до тої частини бібліотеки, з якою тут працюємо\n",
        "\n",
        "https://pandas.pydata.org/docs/reference/api/pandas.DataFrame.plot.html\n",
        "\n",
        "### Профіль колонок набору даних:\n",
        "\n",
        "- **datetime**: дата та час зібрані погодинно\n",
        "- **season**: сезон (1: весна, 2: літо, 3: осінь, 4: зима)\n",
        "- **holiday**: чи є день святковим (витягнуто з http://dchr.dc.gov/page/holiday-schedule)\n",
        "- **workingday**: якщо день не є вихідним або святковим, то позначається як 1, в іншому випадку – 0.\n",
        "- **weather**:\n",
        "  1. Ясно, Мало хмарно, частково хмарно\n",
        "  2. Туман + Хмарно, Туман + Розірвані хмари, Туман + Мало хмарно, Туман\n",
        "  3. Легкий сніг, Легкий дощ + Гроза + Розсіяні хмари, Легкий дощ + Розсіяні хмари\n",
        "  4. Сильний дощ + Крижані кулі + Гроза + Туман, Сніг + Туман\n",
        "- **temp**: температура в градусах Цельсія\n",
        "- **atemp**: як відчувається температура в градусах Цельсія\n",
        "- **humidity**: вологість\n",
        "- **windspeed**: швидкість вітру\n",
        "- **casual**: кількість неформальних користувачів\n",
        "- **registered**: кількість зареєстрованих користувачів\n",
        "- **count**: загальна кількість велосипедів, взятих в оренду, включаючи неформальних та зареєстрованих користувачів\n",
        "\n",
        "0. Імпортуйте бібліотеки `matplotlib.pyplot` та `pandas`.  Завантажте дані з файла yulu_rental.csv у pandas.DataFrame df."
      ],
      "metadata": {
        "id": "jgh9Igw3mu-R"
      }
    },
    {
      "cell_type": "code",
      "source": [],
      "metadata": {
        "id": "ppr-yU7i0UBY"
      },
      "execution_count": null,
      "outputs": []
    },
    {
      "cell_type": "markdown",
      "source": [
        "1.1. Користуючись групою методів `pandas.plot` побудуйте гістограму кількості зареєстрованих користувачів з налаштуваннями за замовченням (тобто без жодних додаткових параметрів)."
      ],
      "metadata": {
        "id": "2P0qs2j9n77l"
      }
    },
    {
      "cell_type": "code",
      "source": [],
      "metadata": {
        "id": "Wyebdk-ApRXg"
      },
      "execution_count": null,
      "outputs": []
    },
    {
      "cell_type": "markdown",
      "source": [
        "1.2. Побудуйте гістограму для цього ж показника, але задайте кількість бінів рівну 30 і задайте прозорість 0.5. Додайте підписи за осями ОХ і ОУ, а також назву дівграмі. Опишіть свої спостереження. Що бачите? Чому дані можуть мати такий розподіл?"
      ],
      "metadata": {
        "id": "R7iaQb21pth5"
      }
    },
    {
      "cell_type": "code",
      "source": [],
      "metadata": {
        "id": "0EL3gTRgphcC"
      },
      "execution_count": null,
      "outputs": []
    },
    {
      "cell_type": "markdown",
      "source": [
        "Має вийти щось таке (може бути без сітки):\n",
        "\n",
        "![](https://drive.google.com/uc?export=view&id=1Pb3UD8cmg_V0LLf8A4feOepTDXMqEAf8)\n"
      ],
      "metadata": {
        "id": "kYyfOm72rOcv"
      }
    },
    {
      "cell_type": "markdown",
      "source": [
        "--------"
      ],
      "metadata": {
        "id": "hN79qVEntRxs"
      }
    },
    {
      "cell_type": "markdown",
      "source": [
        "Перетворимо колонку `datetime` на тип даних `pd.datetime` - це нам доопоможе в подальшій роботі. Просто запустіть колонку нижче і занатуйте собі цей метод роботи з колонкою, в якій міститься дата і час."
      ],
      "metadata": {
        "id": "bFSua5c_275Z"
      }
    },
    {
      "cell_type": "code",
      "source": [
        "df['datetime'] = pd.to_datetime(df.datetime)"
      ],
      "metadata": {
        "id": "u75-uoa627kZ"
      },
      "execution_count": null,
      "outputs": []
    },
    {
      "cell_type": "markdown",
      "source": [
        "І створимо нову колонку `dayofweek` для того, аби дослідити детальніше, коли у нас немає поїздок."
      ],
      "metadata": {
        "id": "Gx6KoojjtYlJ"
      }
    },
    {
      "cell_type": "code",
      "source": [
        "df['dayofweek'] = df.datetime.dt.day_of_week"
      ],
      "metadata": {
        "id": "UIavqb1BthKY"
      },
      "execution_count": null,
      "outputs": []
    },
    {
      "cell_type": "markdown",
      "source": [
        "Переглянемо значення в колонкці. Колонка dayofweek містить числа від 0 до 6 включно, де 0 відповідає понеділку."
      ],
      "metadata": {
        "id": "0KhCBALFvBr6"
      }
    },
    {
      "cell_type": "code",
      "source": [
        "df[['datetime','dayofweek']][df.dayofweek==0].head()"
      ],
      "metadata": {
        "id": "tccYolJkuc8c"
      },
      "execution_count": null,
      "outputs": []
    },
    {
      "cell_type": "markdown",
      "source": [
        "2. Проведемо аналіз нульової активності зареєстрованих користувачів за днями тижня. Для цього\n",
        "  1. Виберіть з набору даних усі записи, де кількість зареєстрованих користувачів дорівнює 0. Групуйте ці записи за днями тижня (`dayofweek`) та обчисліть кількість нульових записів для кожного дня.\n",
        "  2. Після групування, використайте графік типу \"bar\" для візуалізації результатів. Кожна смужка на графіку має відображати кількість записів у даних для цього дня тижня, коли не було зареєстровано жодної поїздки користувачами."
      ],
      "metadata": {
        "id": "RcvlqKigs6kk"
      }
    },
    {
      "cell_type": "code",
      "source": [],
      "metadata": {
        "id": "HuKyVRsDs7YO"
      },
      "execution_count": null,
      "outputs": []
    },
    {
      "cell_type": "markdown",
      "source": [
        "Очікуваний результат:\n",
        "\n",
        "![](https://drive.google.com/uc?export=view&id=1FXNzMa7rTdBQDwXSQfPTtPX5CHZK9A4X)"
      ],
      "metadata": {
        "id": "KcBIjuFbwt_w"
      }
    },
    {
      "cell_type": "markdown",
      "source": [
        "3. Проведемо аналіз загальної кількості зареєстрованих покристувачів за різними погодними умовами.\n",
        "Згрупуйте всі дані за погодними умовами і визначте суму кількості зареєстрованих користувачів для кожної погодньої умови.\n",
        "Побудуйте стовпачасту діаграму, які відобразить результат обчислень.\n",
        "Зверніться до опису даних та дайте відповідь: чи побудована візуалізація має логічний сенс з точки зору опису даних."
      ],
      "metadata": {
        "id": "vyJrpeLxw-o3"
      }
    },
    {
      "cell_type": "code",
      "source": [],
      "metadata": {
        "id": "xhdJmYAMq9lW"
      },
      "execution_count": null,
      "outputs": []
    },
    {
      "cell_type": "markdown",
      "source": [
        "4. Користуючись групою методів pandas.plot побудуйте діаграму розсіювання (scatter plot) між вологістю і кількістю зареєстрованих користувачів. Встановіть прозорість на 0.5, а також налаштуйте діаграму так, аби колір кожної точки відповідав значенню температури за відчуттями (`atemp`).\n",
        "\n",
        "Проаналізуйте графік, що спостерігаєте?"
      ],
      "metadata": {
        "id": "yKTOOnehy3EK"
      }
    },
    {
      "cell_type": "code",
      "source": [],
      "metadata": {
        "id": "Nsp_quhty-Lm"
      },
      "execution_count": null,
      "outputs": []
    },
    {
      "cell_type": "markdown",
      "source": [
        "Очікуваний результат:\n",
        "\n",
        "![](https://drive.google.com/uc?export=view&id=1trepX8z23YwyP9P8cAko9IzwOZkvLo8y)"
      ],
      "metadata": {
        "id": "diCDs1_2z6yR"
      }
    }
  ]
}