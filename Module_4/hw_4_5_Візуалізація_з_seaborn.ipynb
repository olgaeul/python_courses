{
  "nbformat": 4,
  "nbformat_minor": 0,
  "metadata": {
    "colab": {
      "provenance": []
    },
    "kernelspec": {
      "name": "python3",
      "display_name": "Python 3"
    },
    "language_info": {
      "name": "python"
    }
  },
  "cells": [
    {
      "cell_type": "markdown",
      "source": [
        "У цьому домашньому завданні ми продовжуємо працювати з набором даних `Yulu`, з яким почали працювати в \"hw 4.3. Робота з DataFrame. Діаграма розсіювання.\". Фокус цього ДЗ в тому, аби будувати візуалізації використовуючи методи бібліотеки `seaborn`. Це дозволяє будувати гарніні візуалізації, а іноді також робити це швидше, ніж з `matplotlib`.\n",
        "\n",
        "Документація до тої частини бібліотеки, з якою тут працюємо\n",
        "\n",
        "https://pandas.pydata.org/docs/reference/api/pandas.DataFrame.plot.html\n",
        "\n",
        "### Профіль колонок набору даних:\n",
        "\n",
        "- **datetime**: дата та час зібрані погодинно\n",
        "- **season**: сезон (1: весна, 2: літо, 3: осінь, 4: зима)\n",
        "- **holiday**: чи є день святковим (витягнуто з http://dchr.dc.gov/page/holiday-schedule)\n",
        "- **workingday**: якщо день не є вихідним або святковим, то позначається як 1, в іншому випадку – 0.\n",
        "- **weather**:\n",
        "  1. Ясно, Мало хмарно, частково хмарно\n",
        "  2. Туман + Хмарно, Туман + Розірвані хмари, Туман + Мало хмарно, Туман\n",
        "  3. Легкий сніг, Легкий дощ + Гроза + Розсіяні хмари, Легкий дощ + Розсіяні хмари\n",
        "  4. Сильний дощ + Крижані кулі + Гроза + Туман, Сніг + Туман\n",
        "- **temp**: температура в градусах Цельсія\n",
        "- **atemp**: як відчувається температура в градусах Цельсія\n",
        "- **humidity**: вологість\n",
        "- **windspeed**: швидкість вітру\n",
        "- **casual**: кількість неформальних користувачів\n",
        "- **registered**: кількість зареєстрованих користувачів\n",
        "- **count**: загальна кількість велосипедів, взятих в оренду, включаючи неформальних та зареєстрованих користувачів\n",
        "\n",
        "0. Імпортуйте бібліотеки `matplotlib.pyplot`, `seaborn` та `pandas`.  Завантажте дані з файла `yulu_rental.csv` у `pandas.DataFrame` `df`."
      ],
      "metadata": {
        "id": "jgh9Igw3mu-R"
      }
    },
    {
      "cell_type": "code",
      "source": [],
      "metadata": {
        "id": "E0Z5ig4vovDe"
      },
      "execution_count": null,
      "outputs": []
    },
    {
      "cell_type": "markdown",
      "source": [
        "1. Користуючись методом `seaborn.jointplot` побудуйте візуалізацію графіка розсіювання між змінними `humidity` та `count`, зазначивши колір точки в відповідності до значення змінної `weather`. Опишіть свої спостереження з графіку. Що бачите цікавого і корисного для прийняття рішень на основі цих даних?"
      ],
      "metadata": {
        "id": "2P0qs2j9n77l"
      }
    },
    {
      "cell_type": "code",
      "source": [],
      "metadata": {
        "id": "Wyebdk-ApRXg"
      },
      "execution_count": null,
      "outputs": []
    },
    {
      "cell_type": "markdown",
      "source": [
        "Очікуваний результат:\n",
        "\n",
        "![](https://drive.google.com/uc?export=view&id=16BksRhZzoz4ynPKCPjXEek56XBsAEF6T)"
      ],
      "metadata": {
        "id": "AFcTSVJAUd05"
      }
    },
    {
      "cell_type": "markdown",
      "source": [
        "2. Відфільтруйте і збережіть в окремій змінній лише дані з сезоно \"весна\" і \"літо\" (звернітся до опису даних вгорі ноутбуку, аби зрозуміти, які значення вам треба обрати.\n",
        "Користуючись методом `seaborn.jointplot` побудуйте візуалізацію графіка розсіювання між змінними `casual` та `registered`, зазначивши колір точки в відповідності до значення змінної `season`. Встановіть прозорість на 0.2.\n",
        "\n",
        "Опишіть свої спостереження з графіку. Що бачите цікавого і корисного для прийняття рішень на основі цих даних?"
      ],
      "metadata": {
        "id": "Gd6gkCYHRhV4"
      }
    },
    {
      "cell_type": "code",
      "source": [],
      "metadata": {
        "id": "k0eNbmOlRqNQ"
      },
      "execution_count": null,
      "outputs": []
    },
    {
      "cell_type": "markdown",
      "source": [
        "3. Для дослідження як розподілу значень  `humidity` в залежності від погоди (`weather`) побудуйте візуалізацію типу \"ящик з вусами\" (box plot)користуючись відповідним методом бібліотеки seaborn:\n",
        "\n",
        "https://seaborn.pydata.org/generated/seaborn.boxplot.html\n"
      ],
      "metadata": {
        "id": "R7iaQb21pth5"
      }
    },
    {
      "cell_type": "code",
      "source": [],
      "metadata": {
        "id": "H_Oz6pV-P-KM"
      },
      "execution_count": null,
      "outputs": []
    },
    {
      "cell_type": "markdown",
      "source": [
        "Очікуваний результат:\n",
        "\n",
        "![](https://drive.google.com/uc?export=view&id=1_6CBacvDlbuV1XD9GNoGn9sJOSfr74pS)\n"
      ],
      "metadata": {
        "id": "9fUcqxumUsZ9"
      }
    },
    {
      "cell_type": "markdown",
      "source": [
        "4. Використайте бібліотеку Seaborn для створення **парних графіків** (pairplot) розсіювання, які показуватимуть взаємозв'язки між кількістю зареєстрованих, неформальних користувачів та загальною кількістю велосипедів, взятих на прокат. Кожен графік повинен розрізняти робочі та святкові дні за кольором.\n",
        "\n",
        "Для побудови цієї візуалізації спочатку відфільтруйте потрібні колонки в даних і потім зробіть візуалізацію.\n",
        "\n",
        "Проаналізуйте візуалізацію і скажіть, чи можна виявити особливу поведінку користувачів у святкові дні з цих графіків?"
      ],
      "metadata": {
        "id": "1PRIBgjLU8ij"
      }
    },
    {
      "cell_type": "code",
      "source": [],
      "metadata": {
        "id": "7EbtUIS0VKMV"
      },
      "execution_count": null,
      "outputs": []
    },
    {
      "cell_type": "markdown",
      "source": [
        "5. Змініть тип даних колонки `datetime` на `pandas.datetime`."
      ],
      "metadata": {
        "id": "0ss3SB3WZXMH"
      }
    },
    {
      "cell_type": "code",
      "source": [],
      "metadata": {
        "id": "HtaHtytNaOes"
      },
      "execution_count": null,
      "outputs": []
    },
    {
      "cell_type": "markdown",
      "source": [
        " Тепер давайте візуалізуємо кількість зареєстрованих та казуальних користувачів поденно. Для цього виконайте код нижче і після цього створіть нову змінну `df_viz` яка містить лише колонки `'date', 'registered', 'casual'`, згрупуйте дані за датою і відобразіть на **одному** графіку поденну динаміку двох показників з допомогою `pandas.plot`."
      ],
      "metadata": {
        "id": "4sIDB9mzam30"
      }
    },
    {
      "cell_type": "code",
      "source": [
        "df['date'] = df.datetime.dt.date"
      ],
      "metadata": {
        "id": "T5093YvCZg6S"
      },
      "execution_count": null,
      "outputs": []
    },
    {
      "cell_type": "code",
      "source": [],
      "metadata": {
        "id": "-T7Nn6yYc2d-"
      },
      "execution_count": null,
      "outputs": []
    },
    {
      "cell_type": "markdown",
      "source": [
        "Очікуваний результат:\n",
        "\n",
        "![](https://drive.google.com/uc?export=view&id=1XGBqmFLXiI_v-MBEOiCQNyW6sUpvII1n)\n"
      ],
      "metadata": {
        "id": "xGbKjPkZbD6O"
      }
    },
    {
      "cell_type": "code",
      "source": [],
      "metadata": {
        "id": "cuZ8-_WXc-1V"
      },
      "execution_count": null,
      "outputs": []
    }
  ]
}