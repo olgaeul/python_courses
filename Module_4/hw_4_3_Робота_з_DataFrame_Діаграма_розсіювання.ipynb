{
  "nbformat": 4,
  "nbformat_minor": 0,
  "metadata": {
    "colab": {
      "provenance": []
    },
    "kernelspec": {
      "name": "python3",
      "display_name": "Python 3"
    },
    "language_info": {
      "name": "python"
    }
  },
  "cells": [
    {
      "cell_type": "markdown",
      "source": [
        "В цьому ДЗ ми потренуємось будувати візуалізації з використанням бібліотеки `maplotlib` для візуалізації даних в `pandas.DataFrame`."
      ],
      "metadata": {
        "id": "wAw5UBkhnGsv"
      }
    },
    {
      "cell_type": "markdown",
      "source": [
        "# Опис бізнес задачі та набору даних\n",
        "\n",
        "Набір даних \"Yulu\" містить інформацію про попит на спільні електровелосипеди в Індії, що надаються провідним індійським постачальником мікромобільності Yulu. Ця компанія пропонує унікальні транспортні засоби для щоденних поїздок з метою усунення транспортних заторів в Індії та забезпечення безпечного, зручного та доступного рішення для пересування. Зони Yulu розташовані в оптимальних місцях, включаючи станції метро, автобусні зупинки, офісні простори, житлові райони та корпоративні офіси, щоб полегшити поїздки на перші та останні кілометри.\n",
        "\n",
        "Останнім часом Yulu зіткнулася зі значними зниженнями доходів, тому компанія звернулася до консалтингової фірми з метою зрозуміти, від яких факторів залежить попит на ці спільні електровелосипеди, особливо на індійському ринку.\n",
        "\n",
        "### Профіль колонок набору даних:\n",
        "\n",
        "- **datetime**: дата та час зібрані погодинно\n",
        "- **season**: сезон (1: весна, 2: літо, 3: осінь, 4: зима)\n",
        "- **holiday**: чи є день святковим (витягнуто з http://dchr.dc.gov/page/holiday-schedule)\n",
        "- **workingday**: якщо день не є вихідним або святковим, то позначається як 1, в іншому випадку – 0.\n",
        "- **weather**:\n",
        "  1. Ясно, Мало хмарно, частково хмарно\n",
        "  2. Туман + Хмарно, Туман + Розірвані хмари, Туман + Мало хмарно, Туман\n",
        "  3. Легкий сніг, Легкий дощ + Гроза + Розсіяні хмари, Легкий дощ + Розсіяні хмари\n",
        "  4. Сильний дощ + Крижані кулі + Гроза + Туман, Сніг + Туман\n",
        "- **temp**: температура в градусах Цельсія\n",
        "- **atemp**: як відчувається температура в градусах Цельсія\n",
        "- **humidity**: вологість\n",
        "- **windspeed**: швидкість вітру\n",
        "- **casual**: кількість неформальних користувачів\n",
        "- **registered**: кількість зареєстрованих користувачів\n",
        "- **count**: загальна кількість велосипедів, взятих в оренду, включаючи неформальних та зареєстрованих користувачів\n"
      ],
      "metadata": {
        "id": "n9sM-Ew61WIj"
      }
    },
    {
      "cell_type": "markdown",
      "source": [
        "0. Імпортуйте бібліотеки `matplotlib.pyplot` та `pandas`\n"
      ],
      "metadata": {
        "id": "KEb1Khfh1PFW"
      }
    },
    {
      "cell_type": "code",
      "execution_count": null,
      "metadata": {
        "id": "cH0qFpcI04kW"
      },
      "outputs": [],
      "source": []
    },
    {
      "cell_type": "markdown",
      "source": [
        "1. Завантажте дані з файла `yulu_rental.csv` у pandas.DataFrame `df`."
      ],
      "metadata": {
        "id": "dZEU1bHP1P88"
      }
    },
    {
      "cell_type": "code",
      "source": [],
      "metadata": {
        "id": "j-t3FBak2VDg"
      },
      "execution_count": null,
      "outputs": []
    },
    {
      "cell_type": "markdown",
      "source": [
        "2. Виведіть\n",
        "\n",
        "- перші 3 записи з набору даних\n",
        "- типи даних в наборі даних\n",
        "- розміри набору даних"
      ],
      "metadata": {
        "id": "UqsVyCQ52tcU"
      }
    },
    {
      "cell_type": "code",
      "source": [],
      "metadata": {
        "id": "OG5qxHOV2pR8"
      },
      "execution_count": null,
      "outputs": []
    },
    {
      "cell_type": "markdown",
      "source": [
        "Перетворимо колонку `datetime` на тип даних `pd.datetime` - це нам доопоможе в подальшій роботі. Просто запустіть колонку нижче і занатуйте собі цей метод роботи з колонкою, в якій міститься дата і час.\n",
        "Наша колонка тепер стане таймпстемпом і для неї став доступний функціонал, описаний тут\n",
        "\n",
        "https://pandas.pydata.org/docs/reference/api/pandas.Timestamp.html\n",
        "\n",
        "Наприклад, ми можемо легко виокремити дату, день тижня, чи це робочий день, чи ні."
      ],
      "metadata": {
        "id": "bFSua5c_275Z"
      }
    },
    {
      "cell_type": "code",
      "source": [
        "df['datetime'] = pd.to_datetime(df.datetime)"
      ],
      "metadata": {
        "id": "u75-uoa627kZ"
      },
      "execution_count": null,
      "outputs": []
    },
    {
      "cell_type": "markdown",
      "source": [
        "3. З допомогою matplotlib побудуйте найпростіший лінійний графік кількості зареєстрованих користувачів (`registered`) на кожну годину."
      ],
      "metadata": {
        "id": "E0EUY3_w3ssS"
      }
    },
    {
      "cell_type": "code",
      "source": [],
      "metadata": {
        "id": "14YPfFug3cN8"
      },
      "execution_count": null,
      "outputs": []
    },
    {
      "cell_type": "markdown",
      "source": [
        "Має вийти щось таке:\n",
        "![](https://drive.google.com/uc?export=view&id=1WX6s9qmiwq_1TSHQtRX0bPL8sT6Gw2BH)"
      ],
      "metadata": {
        "id": "FOmnLW9H4Se-"
      }
    },
    {
      "cell_type": "markdown",
      "source": [
        "4. Графік виглядає так собі, правда? Давайте загрегуємо дані по дням. Для цього запустіть наступний код аби створити колонку \"дата\" (без часу) і після цього напишіть самостійно код, аби загрегувати дані і отримати кількість зарестрованих клієнтів на день. Ваша фінальна структура (запишіть її в змінну `df_registered_by_date`) даних має містити дві колонки: дату і кількість зареєстрованих користувачів на цей день."
      ],
      "metadata": {
        "id": "jEGQIy0m4pkU"
      }
    },
    {
      "cell_type": "code",
      "source": [
        "df['date'] = df.datetime.dt.date"
      ],
      "metadata": {
        "id": "ePkICnY9393o"
      },
      "execution_count": null,
      "outputs": []
    },
    {
      "cell_type": "code",
      "source": [],
      "metadata": {
        "id": "kZC3bjXX4Feb"
      },
      "execution_count": null,
      "outputs": []
    },
    {
      "cell_type": "markdown",
      "source": [
        "Очікуваний результат:\n",
        "\n",
        "![](https://drive.google.com/uc?export=view&id=1DL7Y-R7_CBWNlQNAnMyAoU8hR2MdF5v7)\n"
      ],
      "metadata": {
        "id": "JEKzl54_5jQO"
      }
    },
    {
      "cell_type": "markdown",
      "source": [
        "5. Тепер побудуйте лінійний графік з matplotlib для даних в `df_registered_by_date`.\n",
        "\n",
        "  Додайте наступну частину до графіку аби зробити підписи за віссю ОХ більш читаємими\n",
        "\n",
        "  `plt.xticks(rotation=45, ha='right')`\n",
        "\n",
        "  Після побудови графіку проаналізуйте його та напишіть, які тенденції щодо зміни кількості зареєстрованих користувачів в часі ви бачите і чому так може бути?"
      ],
      "metadata": {
        "id": "bLWPl8l46NfB"
      }
    },
    {
      "cell_type": "code",
      "source": [],
      "metadata": {
        "id": "KkfF0oKB5J7b"
      },
      "execution_count": null,
      "outputs": []
    },
    {
      "cell_type": "markdown",
      "source": [
        "6. Побудуйте графік розсіювання (scatterplot) між температурою і тим, як вона відчувається (atemp). Поставте прозорість точок 0.2. Додайте підписи до осей Х ат У. Опишіть свої спостереження з цього графіку. Які висновки можна зробити? Що дивного бачите?"
      ],
      "metadata": {
        "id": "MChx0And6bW4"
      }
    },
    {
      "cell_type": "code",
      "source": [],
      "metadata": {
        "id": "9zJBzdsA9Qgk"
      },
      "execution_count": null,
      "outputs": []
    },
    {
      "cell_type": "markdown",
      "source": [
        "  Очікуваний графік:\n",
        "![](https://drive.google.com/uc?export=view&id=13Mi6AGPUh5aQ5YEZjrlkQPuFcNzeeppB)\n"
      ],
      "metadata": {
        "id": "EFHHLW3zAHiG"
      }
    },
    {
      "cell_type": "code",
      "source": [],
      "metadata": {
        "id": "ZWE9VBnhIbyj"
      },
      "execution_count": null,
      "outputs": []
    }
  ]
}