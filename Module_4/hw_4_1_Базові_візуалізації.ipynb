{
  "nbformat": 4,
  "nbformat_minor": 0,
  "metadata": {
    "colab": {
      "provenance": []
    },
    "kernelspec": {
      "name": "python3",
      "display_name": "Python 3"
    },
    "language_info": {
      "name": "python"
    }
  },
  "cells": [
    {
      "cell_type": "markdown",
      "source": [
        "# Домашнє завдання №1 до модуля 4: Базові візуалізації даних."
      ],
      "metadata": {
        "id": "4-pms5pP-SQy"
      }
    },
    {
      "cell_type": "markdown",
      "source": [
        "В цьому ДЗ ми потренуємось будувати базові візуалізації з бібліотекою matplotlib."
      ],
      "metadata": {
        "id": "vWhUPwaI4HY_"
      }
    },
    {
      "cell_type": "markdown",
      "source": [
        "0. Імпортуйте модуль matplotlib.pyplot для роботи як це показано у лекції. Імпортуйте також numpy, він нам знадобиться."
      ],
      "metadata": {
        "id": "xqGtdryhytkx"
      }
    },
    {
      "cell_type": "code",
      "source": [],
      "metadata": {
        "id": "qSr6HS5qx7jA"
      },
      "execution_count": null,
      "outputs": []
    },
    {
      "cell_type": "markdown",
      "source": [
        "### Завдання 1: Візуалізація лінійної та квадратичної функцій\n",
        "\n",
        "**Мета:** Побудувати графіки лінійної та квадратичної функцій на одному графіку для порівняння їх поведінки.\n",
        "\n",
        "1. Створіть масив значень `x` від -10 до 10 (включно) так, аби масив налічував 200 точок (інакше кажучи, мав крок 0.1 від точки до точки) використовуючи спеціальну функцію `numpy`.\n"
      ],
      "metadata": {
        "id": "OcxGlyqLzGhO"
      }
    },
    {
      "cell_type": "code",
      "source": [],
      "metadata": {
        "id": "PleWP4aqzJ5I"
      },
      "execution_count": null,
      "outputs": []
    },
    {
      "cell_type": "markdown",
      "source": [
        "\n",
        "2. Створіть змінну `y_linear`, яка буде містити результат обчислення лінійної функції `y = 2x + 1`. Враховуйте, що змінну `x` ми створили з `numpy`, а значить для арифметичних обчислень з нею нам не треба цикл, бо можемо працювати з цыэю змінною, як з вектором (так само, як працюємо з колонками в `pandas`)\n"
      ],
      "metadata": {
        "id": "5VXHCB1Jz-5B"
      }
    },
    {
      "cell_type": "code",
      "source": [],
      "metadata": {
        "id": "XsTsK35B0e0t"
      },
      "execution_count": null,
      "outputs": []
    },
    {
      "cell_type": "markdown",
      "source": [
        "\n",
        "3. Створіть змінну, яка буде містити результат обчислення квадратичної функції `y = x^2 - x - 2`.\n"
      ],
      "metadata": {
        "id": "v9P8aAIy0bII"
      }
    },
    {
      "cell_type": "code",
      "source": [],
      "metadata": {
        "id": "t5AxZULi1I8F"
      },
      "execution_count": null,
      "outputs": []
    },
    {
      "cell_type": "markdown",
      "source": [
        "4. Побудуйте лінійну візуалізацію значень змінної `y_linear` за відповідних значень `x`."
      ],
      "metadata": {
        "id": "3z7Z4zpt07uZ"
      }
    },
    {
      "cell_type": "code",
      "source": [],
      "metadata": {
        "id": "ldR31dhV1WDZ"
      },
      "execution_count": null,
      "outputs": []
    },
    {
      "cell_type": "markdown",
      "source": [
        "5. Побудуйте лінійну візуалізацію значень змінної `y_quadratic` за відповідних значень x."
      ],
      "metadata": {
        "id": "xaO9nWhR1WTE"
      }
    },
    {
      "cell_type": "code",
      "source": [],
      "metadata": {
        "id": "0e02usxM2HPG"
      },
      "execution_count": null,
      "outputs": []
    },
    {
      "cell_type": "markdown",
      "source": [
        "\n",
        "6. Побудуйте графіки обох функцій на одному графіку:\n",
        "   - Використайте червоний колір та суцільну лінію для лінійної функції.\n",
        "   - Використайте зелений колір та переривчасту лінію для квадратичної функції.\n",
        "\n",
        "   "
      ],
      "metadata": {
        "id": "cts7Ydd_06EM"
      }
    },
    {
      "cell_type": "code",
      "source": [],
      "metadata": {
        "id": "UR70iioK2r1k"
      },
      "execution_count": null,
      "outputs": []
    },
    {
      "cell_type": "markdown",
      "source": [
        "Виглядає непогано! Але давайте для солідності додамо підписи графіку і на осях, а також сітку і легенду. Про це буде в наступному уроці, а поки просто вставте замість трьох крапок спочатку наповнення (те, що на попередньому кроці було всередині p для побудови графіку лінійної фукнції, потім - квадратичної і запустіть код."
      ],
      "metadata": {
        "id": "COVMbbNd3P7e"
      }
    },
    {
      "cell_type": "code",
      "source": [
        "plt.plot(..., label='Лінійна функція')\n",
        "plt.plot(..., label='Квадратична функція')\n",
        "plt.title('Порівняння лінійної та квадратичної функцій')\n",
        "plt.xlabel('x')\n",
        "plt.ylabel('y')\n",
        "plt.legend()\n",
        "plt.grid(True)\n"
      ],
      "metadata": {
        "id": "Z96LQ35i3JkF"
      },
      "execution_count": null,
      "outputs": []
    }
  ]
}