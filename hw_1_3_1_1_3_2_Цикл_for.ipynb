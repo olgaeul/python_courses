{
  "nbformat": 4,
  "nbformat_minor": 0,
  "metadata": {
    "colab": {
      "provenance": []
    },
    "kernelspec": {
      "name": "python3",
      "display_name": "Python 3"
    },
    "language_info": {
      "name": "python"
    }
  },
  "cells": [
    {
      "cell_type": "markdown",
      "source": [
        "#Домашнє завдання до теми \"Цикл for\""
      ],
      "metadata": {
        "id": "W8lqt6zd9axA"
      }
    },
    {
      "cell_type": "markdown",
      "source": [
        "0. Розігрів. Напишіть цикл, який виводить на екран числа від 1 до 10 включно."
      ],
      "metadata": {
        "id": "iXzoNTu604kH"
      }
    },
    {
      "cell_type": "code",
      "execution_count": null,
      "metadata": {
        "id": "zpwypSSp0MVm"
      },
      "outputs": [],
      "source": []
    },
    {
      "cell_type": "markdown",
      "source": [
        "**Початок покладено!**"
      ],
      "metadata": {
        "id": "JmWR8uze094H"
      }
    },
    {
      "cell_type": "markdown",
      "source": [
        "1. Задайте список `numbers`, який містить значення від 0 до 9 включно. Використовуючи цикл `for`, обчисліть суму елементів в створеному списку та виведіть фінальну суму на екран."
      ],
      "metadata": {
        "id": "OJX3yG-Blplu"
      }
    },
    {
      "cell_type": "code",
      "source": [],
      "metadata": {
        "id": "sSX30A5yuvUQ"
      },
      "execution_count": null,
      "outputs": []
    },
    {
      "cell_type": "markdown",
      "source": [
        "2. Використовуючи цикл  `for` виведіть для кожного елементу списку `numbers`,який ми створили в завданні 1, чи цей елемент дорівнює 5. Тобто після виконання циклу на екрані має бути 10 bool значень."
      ],
      "metadata": {
        "id": "6Tb2Kx_jmD5b"
      }
    },
    {
      "cell_type": "code",
      "source": [],
      "metadata": {
        "id": "Ls8ZW8DWuwHC"
      },
      "execution_count": null,
      "outputs": []
    },
    {
      "cell_type": "markdown",
      "source": [
        "3. Використовуючи цикл  `for` для кожного елементу списку `numbers`, який ми створили в завданні 1, виявіть, чи цей елемент ділиться на 2 без остачі, та запишіть результат у новий список `numbers_divisible_by_2`.\n",
        "\n",
        "Увага! Виконання завдання відрізняється від попереднього тим, що тепер ми результат обчислення на кожній ітерації записуємо у новий список. До того ж ми тут виконуємо іншу математичну операцію.\n",
        "\n",
        "Виведіть фільнальний список `numbers_divisible_by_2` на екран."
      ],
      "metadata": {
        "id": "ddFE1naOmp7Q"
      }
    },
    {
      "cell_type": "code",
      "source": [],
      "metadata": {
        "id": "S2Pk_W12uyDo"
      },
      "execution_count": null,
      "outputs": []
    },
    {
      "cell_type": "markdown",
      "source": [
        "Очікуваний результат: `[True, False, True, False, True, False, True, False, True, False]`"
      ],
      "metadata": {
        "id": "cwvpWeVGnUGB"
      }
    },
    {
      "cell_type": "markdown",
      "source": [
        "4. Задано два списки в клітинці нижче - `a` і `b`. Створіть цикл, результатом якого буде список `result`, що містить елементи типу bool і який фактично каже,\n",
        "\"чи на цьому індексі елементи наших двох списків співпадають\". Приклад:\n",
        "```\n",
        "a = [1, 2, 3, 6]\n",
        "b = [1, 7, 3, 6]\n",
        "# ми виконали поелементне порівняння двох списків і отримали новий список result\n",
        "# result містить наступний результат -> [True, False, True, True]\n",
        "```\n",
        "В кінці виведіть вміст result на екран.\n",
        "\n",
        "<details>\n",
        "<summary>Підказка</summary>\n",
        "\n",
        "Аби порівняти елементи в циклі - треба створити цикл по індексам елементів. Зважаючи, що наші списки - одної довжини, цей підхід дозволить нам отримати чітко те, що треба.\n",
        "\n",
        "**Просунутий варіант.** Альтернативно можна створити цикл, який на кожній ітерації має доступ до двох елементів - по одному з кожного списка, для цього треба скористатись функцією `zip` - приклад [тут](https://realpython.com/python-zip-function/#traversing-lists-in-parallel)\n",
        "</details>\n"
      ],
      "metadata": {
        "id": "0rgeGpJ3utVN"
      }
    },
    {
      "cell_type": "code",
      "source": [
        "a = [64, 93, 60, 95, 66, 9, 15, 55, 77, 28, 74, 100, 13, 1, 85, 48, 66, 65, 59, 32]\n",
        "b = [64, 93, 60, 95, 66, 9, 15, 56, 77, 28, 74, 100, 13, 1, 85, 48, 67, 65, 59, 32]"
      ],
      "metadata": {
        "id": "IIYG41pWdJiG"
      },
      "execution_count": null,
      "outputs": []
    },
    {
      "cell_type": "code",
      "source": [],
      "metadata": {
        "id": "XgZwTwr4u2lA"
      },
      "execution_count": null,
      "outputs": []
    },
    {
      "cell_type": "markdown",
      "source": [
        "5. Нижче задано список `numbers`. Виконайте клітинку з його заданням.\n",
        "\n",
        "  Давайте знайдемо середнє арифметичне значення елементів списку `numbers` округлене до 2 цифр після коми та запишемо його у змінну `numbers_mean`. Для цього виконаємо два простих кроки.\n",
        "\n",
        "  1) Знайдіть суму всіх елементів списку `numbers` та запишіть її у змінну `numbers_sum`. Можна з використанням циклу, а можна і без.\n",
        "\n",
        "  2) Обчисліть `numbers_mean` шляхом ділення суми елементів у списку на їх кількість. Кількість елементів в списку - це його довжина.\n",
        "\n",
        "  Виведіть `numbers_mean`, округлений до 2 цифр після коми, на екран.\n",
        "\n",
        "  **Підказка**: округлити число можна з використанням вбудованої функції Python [round()](https://docs.python.org/3/library/functions.html#round)."
      ],
      "metadata": {
        "id": "0Z2cObcTutVO"
      }
    },
    {
      "cell_type": "code",
      "source": [
        "numbers = [42, 51, 29, 2, 13, 44, 80, 66, 16]"
      ],
      "metadata": {
        "id": "TwuOmLpeutVO"
      },
      "execution_count": null,
      "outputs": []
    },
    {
      "cell_type": "code",
      "source": [],
      "metadata": {
        "id": "R-qDvKVcu6e1"
      },
      "execution_count": null,
      "outputs": []
    },
    {
      "cell_type": "markdown",
      "source": [
        "Очікуваний результат: `38.11`"
      ],
      "metadata": {
        "id": "pSdssHuuutVQ"
      }
    },
    {
      "cell_type": "markdown",
      "source": [
        "6. Задано список `a` і елемент `element`. Перевірте програмно чи є в списку `a` елемент `element` з допомогою інструкцій `if ... else`. Виведіть на екран відповідь \"Так, є\", якщо цей елемент в списку присутній, або \"Ні, нема\", якщо його там немає.\n",
        "Важливо це зробити без використання імпортів будь-яких бібліотек.\n",
        "\n",
        "  Тут цикла немає :) Але це завдання - підготовче до наступного."
      ],
      "metadata": {
        "id": "JsevSvVtutVQ"
      }
    },
    {
      "cell_type": "code",
      "source": [
        "a = [64, 93, 60, 95, 66, 9, 15, 55, 77, 28, 74, 100, 13, 1, 85, 48, 66, 65, 59, 32]\n",
        "element = 33"
      ],
      "metadata": {
        "id": "TqkTdlN_utVQ"
      },
      "execution_count": null,
      "outputs": []
    },
    {
      "cell_type": "code",
      "source": [],
      "metadata": {
        "id": "aL_76T8pu7fp"
      },
      "execution_count": null,
      "outputs": []
    },
    {
      "cell_type": "markdown",
      "source": [
        "7. Тепер у нас не один елемент, а кілька. Вони наведені в змінній `elements`. За допомогою циклу і інструкцій `if ... else` для кожного елемента списку `elements` перевірте, чи він є в списку `a`.\n",
        "Виведіть на екран відповідь \"Так, є елемент <вставити значення елемента>\", якщо елемент в списку присутній, або \"Ні, нема елемента <вставити значення елемента>\", якщо його там немає."
      ],
      "metadata": {
        "id": "QKjmv4j0utVR"
      }
    },
    {
      "cell_type": "code",
      "source": [
        "elements = [44, 66, 77, 100]"
      ],
      "metadata": {
        "id": "TF3nT5TMutVR"
      },
      "execution_count": null,
      "outputs": []
    },
    {
      "cell_type": "code",
      "source": [],
      "metadata": {
        "id": "pQD5InOQvG1d"
      },
      "execution_count": null,
      "outputs": []
    }
  ]
}